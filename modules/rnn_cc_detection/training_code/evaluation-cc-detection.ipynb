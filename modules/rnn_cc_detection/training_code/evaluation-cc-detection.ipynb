{
 "cells": [
  {
   "cell_type": "markdown",
   "metadata": {},
   "source": [
    "# Jupyter notebook to test the effectiveness of the CC detection models."
   ]
  },
  {
   "cell_type": "code",
   "execution_count": 101,
   "metadata": {},
   "outputs": [],
   "source": [
    "import numpy as np\n",
    "import pandas as pd\n",
    "import argparse\n",
    "\n",
    "import tensorflow as tf\n",
    "import sklearn as sk\n",
    "from tensorflow.keras import layers\n",
    "from tensorflow.keras.preprocessing.sequence import pad_sequences\n",
    "from sklearn.model_selection import train_test_split\n",
    "from datetime import datetime"
   ]
  },
  {
   "cell_type": "code",
   "execution_count": 102,
   "metadata": {},
   "outputs": [],
   "source": [
    "# Define Default values\n",
    "csvfile = '../datasets/all_datasets_raw.tsv'\n",
    "# Less than 5 letters is just too small to know if it is a CC or not. So we set a minimum.\n",
    "min_letters = 5\n",
    "# The max 500 letters is arbitrary but we believe that less than 50 letters should be enough to know if it is a CC\n",
    "max_letters = 500\n",
    "# In case the sequences are too long to load, is better to never load more than some amount from file to memory. A safeguard\n",
    "take_last_num = lambda x: x[: max_letters]"
   ]
  },
  {
   "cell_type": "code",
   "execution_count": 103,
   "metadata": {},
   "outputs": [],
   "source": [
    "# Load the dataframe from the TSV file\n",
    "df = pd.read_csv(\n",
    "        csvfile,\n",
    "        delimiter=\"|\",\n",
    "        names=[\"note\", \"label\", \"model_id\", \"state\"],\n",
    "        skipinitialspace=True,\n",
    "        converters={\"state\": take_last_num},\n",
    "    )"
   ]
  },
  {
   "cell_type": "code",
   "execution_count": 104,
   "metadata": {},
   "outputs": [],
   "source": [
    "# Clean the dataset\n",
    "df.dropna(axis=0, how=\"any\", inplace=True)\n",
    "df.drop(axis=1, columns=[\"note\", \"model_id\"], inplace=True)"
   ]
  },
  {
   "cell_type": "code",
   "execution_count": 105,
   "metadata": {},
   "outputs": [],
   "source": [
    "# Delete the strings of letters with less than a certain amount\n",
    "indexNames = df[df[\"state\"].str.len() < min_letters].index\n",
    "df.drop(indexNames, inplace=True)"
   ]
  },
  {
   "cell_type": "code",
   "execution_count": 106,
   "metadata": {},
   "outputs": [],
   "source": [
    "# Add a new column to the dataframe with the label. The label is 'Normal' for the normal data and 'Malcious' for the malware data\n",
    "df.loc[df.label.str.contains(\"Normal\"), \"label\"] = \"Normal\"\n",
    "df.loc[df.label.str.contains(\"Botnet\"), \"label\"] = \"Malicious\"\n",
    "df.loc[df.label.str.contains(\"Malware\"), \"label\"] = \"Malicious\""
   ]
  },
  {
   "cell_type": "code",
   "execution_count": 107,
   "metadata": {},
   "outputs": [
    {
     "name": "stderr",
     "output_type": "stream",
     "text": [
      "/tmp/ipykernel_2258671/3015528503.py:3: FutureWarning: Downcasting behavior in `replace` is deprecated and will be removed in a future version. To retain the old behavior, explicitly call `result.infer_objects(copy=False)`. To opt-in to the future behavior, set `pd.set_option('future.no_silent_downcasting', True)`\n",
      "  df.label = df.label.replace(\"Normal\", 0)\n"
     ]
    }
   ],
   "source": [
    "# Encode the label as an integer. 1 for maliciuos, 0 for benign. \n",
    "df.label = df.label.replace(\"Malicious\", 1)\n",
    "df.label = df.label.replace(\"Normal\", 0)"
   ]
  },
  {
   "cell_type": "code",
   "execution_count": 108,
   "metadata": {},
   "outputs": [
    {
     "name": "stdout",
     "output_type": "stream",
     "text": [
      "There are 50 letters in total. From letter index 0.0 to letter index 49.0.\n"
     ]
    }
   ],
   "source": [
    "# Convert each of the stratosphere letters to an integer as an encoding. There are 50 symbols\n",
    "vocabulary = list(\"abcdefghiABCDEFGHIrstuvwxyzRSTUVWXYZ1234567890,.+*\")\n",
    "int_of_letters = {}\n",
    "for i, letter in enumerate(vocabulary):\n",
    "    int_of_letters[letter] = float(i)\n",
    "print( f\"There are {len(int_of_letters)} letters in total. From letter index {min(int_of_letters.values())} to letter index {max(int_of_letters.values())}.\")\n",
    "vocabulary_size = len(int_of_letters)"
   ]
  },
  {
   "cell_type": "code",
   "execution_count": 109,
   "metadata": {},
   "outputs": [],
   "source": [
    "# Change the letters in the state to an integer representing it uniquely. We 'encode' them.\n",
    "df[\"state\"] = df[\"state\"].apply(lambda x: [[int_of_letters[i]] for i in x])\n",
    "# So far, only 1 feature per letter\n",
    "features_per_sample = 1"
   ]
  },
  {
   "cell_type": "code",
   "execution_count": 110,
   "metadata": {},
   "outputs": [
    {
     "data": {
      "text/plain": [
       "70    [[44.0], [44.0], [45.0], [17.0], [17.0], [49.0...\n",
       "71    [[36.0], [36.0], [47.0], [27.0], [47.0], [27.0...\n",
       "73             [[44.0], [41.0], [47.0], [14.0], [47.0]]\n",
       "75    [[41.0], [41.0], [47.0], [35.0], [47.0], [26.0...\n",
       "76    [[44.0], [44.0], [47.0], [35.0], [47.0], [26.0...\n",
       "Name: state, dtype: object"
      ]
     },
     "execution_count": 110,
     "metadata": {},
     "output_type": "execute_result"
    }
   ],
   "source": [
    "# Check how the encoding looks like\n",
    "df.state.head()"
   ]
  },
  {
   "cell_type": "code",
   "execution_count": 111,
   "metadata": {},
   "outputs": [
    {
     "name": "stdout",
     "output_type": "stream",
     "text": [
      "There are 2228 outtuples\n"
     ]
    }
   ],
   "source": [
    "# Convert the data into the appropriate shape\n",
    "# x_data is a list of lists. The 1st dimension is the outtuple, the second the letter. Each letter is now an int value. shape=(num_outuples, features_per_sample)\n",
    "x_data = df[\"state\"].to_numpy()\n",
    "print(f\"There are {len(x_data)} outtuples\")"
   ]
  },
  {
   "cell_type": "code",
   "execution_count": 112,
   "metadata": {},
   "outputs": [
    {
     "name": "stdout",
     "output_type": "stream",
     "text": [
      "There are 2228 labels\n"
     ]
    }
   ],
   "source": [
    "# y_data is a list of ints that are 0 or 1. One integer per outtupple. shape=(num_outuples, 1)\n",
    "y_data = df[\"label\"].to_numpy()\n",
    "print(f\"There are {len(y_data)} labels\")"
   ]
  },
  {
   "cell_type": "code",
   "execution_count": 113,
   "metadata": {},
   "outputs": [
    {
     "name": "stdout",
     "output_type": "stream",
     "text": [
      "x_data type <class 'numpy.ndarray'> of shape (2228,). x_data[0] type is <class 'list'>\n",
      "x_data[0] is [[44.0], [44.0], [45.0], [17.0], [17.0], [49.0], [26.0], [49.0], [45.0], [35.0], [45.0], [17.0]]\n"
     ]
    }
   ],
   "source": [
    "# Here x_data is a array of lists [[]]\n",
    "print(f\"x_data type {type(x_data)} of shape {x_data.shape}. x_data[0] type is {type(x_data[0])}\")\n",
    "print(f\"x_data[0] is {x_data[0]}\")"
   ]
  },
  {
   "cell_type": "code",
   "execution_count": 114,
   "metadata": {},
   "outputs": [
    {
     "name": "stdout",
     "output_type": "stream",
     "text": [
      "The max len of the letters in all outtuples is: 500\n"
     ]
    }
   ],
   "source": [
    "# Search the sample with max len in the training. It should be already cuted by the csv_read function to a max. Here we just check\n",
    "max_length_of_outtupple = max([len(sublist) for sublist in df.state.to_list()])\n",
    "print(f\"The max len of the letters in all outtuples is: {max_length_of_outtupple}\")"
   ]
  },
  {
   "cell_type": "code",
   "execution_count": 115,
   "metadata": {},
   "outputs": [
    {
     "name": "stdout",
     "output_type": "stream",
     "text": [
      "padded_x_data is of type <class 'numpy.ndarray'>, of shape (2228, 500, 1). padded_x_data[0] type is <class 'numpy.ndarray'>. Shape of second list is (500, 1)\n"
     ]
    }
   ],
   "source": [
    "# Padding.\n",
    "# Since not all outtuples have the same amount of letters, we need to add padding at the end\n",
    "# Transforms the list to a 2D Numpy array of shape (num_samples, num_timesteps)\n",
    "# num_timesteps is either the maxlen argument if provided, or the length of the longest sequence otherwise.\n",
    "# Sequences that are shorter than num_timesteps are padded with value at the end.\n",
    "# padding: 'pre' or 'post': pad either before or after each sequence.\n",
    "# truncating: 'pre' or 'post': remove values from sequences larger than maxlen, either at the beginning or at the end of the sequences.\n",
    "\n",
    "# If the input are integers\n",
    "padded_x_data = pad_sequences(\n",
    "    x_data, maxlen=max_length_of_outtupple, padding=\"post\"\n",
    ")\n",
    "print(\n",
    "        f\"padded_x_data is of type {type(padded_x_data)}, of shape {padded_x_data.shape}. padded_x_data[0] type is {type(padded_x_data[0])}. Shape of second list is {padded_x_data[0].shape}\"\n",
    "    )"
   ]
  },
  {
   "cell_type": "code",
   "execution_count": 116,
   "metadata": {},
   "outputs": [],
   "source": [
    "# Split the data in training/evaluation and testing\n",
    "x_data = padded_x_data\n",
    "y_data = y_data\n",
    "\n",
    "X_traineval, X_test, y_traineval, y_test = train_test_split(x_data, y_data, test_size=0.2, random_state=42)"
   ]
  },
  {
   "cell_type": "code",
   "execution_count": 117,
   "metadata": {},
   "outputs": [
    {
     "name": "stdout",
     "output_type": "stream",
     "text": [
      "We have as shape: Num of samples: 1782, Num of letters per sample (timesteps): 500, each letter has 1 values. The input shape is (1782, 1)\n"
     ]
    }
   ],
   "source": [
    "num_outtuples = X_traineval.shape[0]  # number_of_outtuples in general\n",
    "\n",
    "# In the case of hot-encoding, the amount of features per letter per sample, is 50, which is the vocabulary size\n",
    "# features_per_sample = vocabulary_size # amount of positions of the hot encoding (50 letters, so 50)\n",
    "# print(f'We have as input shape: {num_outtuples}, {max_length_of_outtupple}, {features_per_sample}')\n",
    "# input_shape = (num_outtuples, features_per_sample)\n",
    "\n",
    "# In the case of not using hot-encoding, the amount of features per sample is 1, because we only have one value\n",
    "# The amount of time steps is the amount of letters, since one letter is one time step, which is the amount of letters max, which 500\n",
    "input_shape = (num_outtuples, features_per_sample)\n",
    "print(\n",
    "    f\"We have as shape: Num of samples: {num_outtuples}, Num of letters per sample (timesteps): {max_length_of_outtupple}, each letter has {features_per_sample} values. The input shape is {input_shape}\"\n",
    ")"
   ]
  },
  {
   "cell_type": "code",
   "execution_count": 118,
   "metadata": {},
   "outputs": [],
   "source": [
    "# Model being explored. Used for file name creation.\n",
    "model_trained = 'v1.1'\n",
    "\n",
    "# Get current date\n",
    "model_train_date = datetime.now().strftime('%Y-%m-%d')"
   ]
  },
  {
   "cell_type": "code",
   "execution_count": 119,
   "metadata": {},
   "outputs": [],
   "source": [
    "# Model v1\n",
    "# Hyperparameters\n",
    "vocabulary_size = vocabulary_size\n",
    "embed_dim = 16\n",
    "\n",
    "# Create the model of RNN\n",
    "model = tf.keras.models.Sequential()\n",
    "model.add(layers.Embedding(vocabulary_size, embed_dim, mask_zero=True))\n",
    "# GRU is the main RNN layer, inputs: A 3D tensor, with shape [batch, timesteps, feature]\n",
    "model.add(\n",
    "    layers.Bidirectional(\n",
    "        layers.GRU(32, return_sequences=False), merge_mode=\"concat\"\n",
    "    )\n",
    ")\n",
    "model.add(layers.Dense(32, activation=\"relu\"))\n",
    "model.add(layers.Dropout(0.5))\n",
    "model.add(layers.Dense(1, activation=\"sigmoid\"))\n",
    "# Fully connected layer with 1 neuron output\n",
    "# Final output value between 0 and 1 as probability\n",
    "model.compile(\n",
    "    loss=\"binary_crossentropy\",\n",
    "    optimizer=tf.keras.optimizers.RMSprop(learning_rate=0.0001, momentum=0.05),\n",
    "    metrics=[\"accuracy\"],\n",
    ")"
   ]
  },
  {
   "cell_type": "code",
   "execution_count": 120,
   "metadata": {},
   "outputs": [
    {
     "name": "stdout",
     "output_type": "stream",
     "text": [
      "Epoch 1/100\n",
      "17/17 [==============================] - 21s 564ms/step - loss: 0.6898 - accuracy: 0.6151 - val_loss: 0.6846 - val_accuracy: 0.7263\n",
      "Epoch 2/100\n",
      "17/17 [==============================] - 6s 341ms/step - loss: 0.6816 - accuracy: 0.7087 - val_loss: 0.6770 - val_accuracy: 0.7263\n",
      "Epoch 3/100\n",
      "17/17 [==============================] - 6s 349ms/step - loss: 0.6745 - accuracy: 0.7193 - val_loss: 0.6697 - val_accuracy: 0.7263\n",
      "Epoch 4/100\n",
      "17/17 [==============================] - 6s 336ms/step - loss: 0.6693 - accuracy: 0.7130 - val_loss: 0.6618 - val_accuracy: 0.7263\n",
      "Epoch 5/100\n",
      "17/17 [==============================] - 6s 346ms/step - loss: 0.6598 - accuracy: 0.7112 - val_loss: 0.6525 - val_accuracy: 0.7263\n",
      "Epoch 6/100\n",
      "17/17 [==============================] - 6s 337ms/step - loss: 0.6517 - accuracy: 0.7118 - val_loss: 0.6427 - val_accuracy: 0.7263\n",
      "Epoch 7/100\n",
      "17/17 [==============================] - 6s 334ms/step - loss: 0.6423 - accuracy: 0.7112 - val_loss: 0.6335 - val_accuracy: 0.7263\n",
      "Epoch 8/100\n",
      "17/17 [==============================] - 6s 340ms/step - loss: 0.6325 - accuracy: 0.7118 - val_loss: 0.6233 - val_accuracy: 0.7263\n",
      "Epoch 9/100\n",
      "17/17 [==============================] - 6s 334ms/step - loss: 0.6213 - accuracy: 0.7105 - val_loss: 0.6135 - val_accuracy: 0.7263\n",
      "Epoch 10/100\n",
      "17/17 [==============================] - 6s 334ms/step - loss: 0.6148 - accuracy: 0.7093 - val_loss: 0.6042 - val_accuracy: 0.7263\n",
      "Epoch 11/100\n",
      "17/17 [==============================] - 6s 331ms/step - loss: 0.6069 - accuracy: 0.7105 - val_loss: 0.5935 - val_accuracy: 0.7263\n",
      "Epoch 12/100\n",
      "17/17 [==============================] - 6s 337ms/step - loss: 0.5956 - accuracy: 0.7099 - val_loss: 0.5822 - val_accuracy: 0.7263\n",
      "Epoch 13/100\n",
      "17/17 [==============================] - 6s 336ms/step - loss: 0.5905 - accuracy: 0.7093 - val_loss: 0.5711 - val_accuracy: 0.7263\n",
      "Epoch 14/100\n",
      "17/17 [==============================] - 6s 338ms/step - loss: 0.5788 - accuracy: 0.7099 - val_loss: 0.5589 - val_accuracy: 0.7263\n",
      "Epoch 15/100\n",
      "17/17 [==============================] - 6s 337ms/step - loss: 0.5647 - accuracy: 0.7124 - val_loss: 0.5477 - val_accuracy: 0.7263\n",
      "Epoch 16/100\n",
      "17/17 [==============================] - 6s 331ms/step - loss: 0.5580 - accuracy: 0.7118 - val_loss: 0.5360 - val_accuracy: 0.7263\n",
      "Epoch 17/100\n",
      "17/17 [==============================] - 6s 336ms/step - loss: 0.5505 - accuracy: 0.7137 - val_loss: 0.5248 - val_accuracy: 0.7263\n",
      "Epoch 18/100\n",
      "17/17 [==============================] - 6s 335ms/step - loss: 0.5369 - accuracy: 0.7112 - val_loss: 0.5127 - val_accuracy: 0.7263\n",
      "Epoch 19/100\n",
      "17/17 [==============================] - 6s 336ms/step - loss: 0.5267 - accuracy: 0.7155 - val_loss: 0.5011 - val_accuracy: 0.7263\n",
      "Epoch 20/100\n",
      "17/17 [==============================] - 6s 330ms/step - loss: 0.5163 - accuracy: 0.7199 - val_loss: 0.4888 - val_accuracy: 0.7263\n",
      "Epoch 21/100\n",
      "17/17 [==============================] - 6s 326ms/step - loss: 0.4999 - accuracy: 0.7218 - val_loss: 0.4757 - val_accuracy: 0.7263\n",
      "Epoch 22/100\n",
      "17/17 [==============================] - 6s 325ms/step - loss: 0.4974 - accuracy: 0.7355 - val_loss: 0.4623 - val_accuracy: 0.7263\n",
      "Epoch 23/100\n",
      "17/17 [==============================] - 6s 332ms/step - loss: 0.4836 - accuracy: 0.7511 - val_loss: 0.4481 - val_accuracy: 0.7654\n",
      "Epoch 24/100\n",
      "17/17 [==============================] - 6s 330ms/step - loss: 0.4693 - accuracy: 0.7754 - val_loss: 0.4328 - val_accuracy: 0.7989\n",
      "Epoch 25/100\n",
      "17/17 [==============================] - 6s 327ms/step - loss: 0.4522 - accuracy: 0.7923 - val_loss: 0.4171 - val_accuracy: 0.8324\n",
      "Epoch 26/100\n",
      "17/17 [==============================] - 6s 329ms/step - loss: 0.4377 - accuracy: 0.8191 - val_loss: 0.4013 - val_accuracy: 0.8659\n",
      "Epoch 27/100\n",
      "17/17 [==============================] - 6s 330ms/step - loss: 0.4228 - accuracy: 0.8397 - val_loss: 0.3865 - val_accuracy: 0.8715\n",
      "Epoch 28/100\n",
      "17/17 [==============================] - 6s 331ms/step - loss: 0.4124 - accuracy: 0.8528 - val_loss: 0.3726 - val_accuracy: 0.8939\n",
      "Epoch 29/100\n",
      "17/17 [==============================] - 6s 327ms/step - loss: 0.3981 - accuracy: 0.8677 - val_loss: 0.3584 - val_accuracy: 0.8994\n",
      "Epoch 30/100\n",
      "17/17 [==============================] - 6s 327ms/step - loss: 0.3805 - accuracy: 0.8727 - val_loss: 0.3456 - val_accuracy: 0.9050\n",
      "Epoch 31/100\n",
      "17/17 [==============================] - 6s 335ms/step - loss: 0.3714 - accuracy: 0.8821 - val_loss: 0.3336 - val_accuracy: 0.8994\n",
      "Epoch 32/100\n",
      "17/17 [==============================] - 6s 331ms/step - loss: 0.3589 - accuracy: 0.8840 - val_loss: 0.3214 - val_accuracy: 0.9106\n",
      "Epoch 33/100\n",
      "17/17 [==============================] - 6s 329ms/step - loss: 0.3444 - accuracy: 0.8927 - val_loss: 0.3099 - val_accuracy: 0.8994\n",
      "Epoch 34/100\n",
      "17/17 [==============================] - 6s 336ms/step - loss: 0.3333 - accuracy: 0.8896 - val_loss: 0.3008 - val_accuracy: 0.8939\n",
      "Epoch 35/100\n",
      "17/17 [==============================] - 6s 340ms/step - loss: 0.3265 - accuracy: 0.8908 - val_loss: 0.2914 - val_accuracy: 0.8939\n",
      "Epoch 36/100\n",
      "17/17 [==============================] - 6s 334ms/step - loss: 0.3191 - accuracy: 0.8871 - val_loss: 0.2836 - val_accuracy: 0.8994\n",
      "Epoch 37/100\n",
      "17/17 [==============================] - 6s 329ms/step - loss: 0.3095 - accuracy: 0.8958 - val_loss: 0.2761 - val_accuracy: 0.8994\n",
      "Epoch 38/100\n",
      "17/17 [==============================] - 5s 322ms/step - loss: 0.2984 - accuracy: 0.8964 - val_loss: 0.2697 - val_accuracy: 0.8939\n",
      "Epoch 39/100\n",
      "17/17 [==============================] - 6s 330ms/step - loss: 0.2933 - accuracy: 0.8996 - val_loss: 0.2641 - val_accuracy: 0.8939\n",
      "Epoch 40/100\n",
      "17/17 [==============================] - 6s 327ms/step - loss: 0.2837 - accuracy: 0.9052 - val_loss: 0.2583 - val_accuracy: 0.8939\n",
      "Epoch 41/100\n",
      "17/17 [==============================] - 6s 338ms/step - loss: 0.2807 - accuracy: 0.9046 - val_loss: 0.2542 - val_accuracy: 0.8883\n",
      "Epoch 42/100\n",
      "17/17 [==============================] - 6s 338ms/step - loss: 0.2729 - accuracy: 0.9014 - val_loss: 0.2504 - val_accuracy: 0.8883\n",
      "Epoch 43/100\n",
      "17/17 [==============================] - 6s 337ms/step - loss: 0.2763 - accuracy: 0.9064 - val_loss: 0.2477 - val_accuracy: 0.8827\n",
      "Epoch 44/100\n",
      "17/17 [==============================] - 6s 325ms/step - loss: 0.2728 - accuracy: 0.9027 - val_loss: 0.2456 - val_accuracy: 0.8939\n",
      "Epoch 45/100\n",
      "17/17 [==============================] - 6s 331ms/step - loss: 0.2713 - accuracy: 0.9089 - val_loss: 0.2432 - val_accuracy: 0.8994\n",
      "Epoch 46/100\n",
      "17/17 [==============================] - 6s 338ms/step - loss: 0.2698 - accuracy: 0.9052 - val_loss: 0.2419 - val_accuracy: 0.8994\n",
      "Epoch 47/100\n",
      "17/17 [==============================] - 6s 336ms/step - loss: 0.2677 - accuracy: 0.9102 - val_loss: 0.2399 - val_accuracy: 0.8994\n",
      "Epoch 48/100\n",
      "17/17 [==============================] - 6s 338ms/step - loss: 0.2511 - accuracy: 0.9102 - val_loss: 0.2378 - val_accuracy: 0.8994\n",
      "Epoch 49/100\n",
      "17/17 [==============================] - 6s 327ms/step - loss: 0.2640 - accuracy: 0.9014 - val_loss: 0.2365 - val_accuracy: 0.8994\n",
      "Epoch 50/100\n",
      "17/17 [==============================] - 6s 328ms/step - loss: 0.2569 - accuracy: 0.9002 - val_loss: 0.2363 - val_accuracy: 0.8939\n",
      "Epoch 51/100\n",
      "17/17 [==============================] - 6s 326ms/step - loss: 0.2528 - accuracy: 0.9002 - val_loss: 0.2345 - val_accuracy: 0.8939\n",
      "Epoch 52/100\n",
      "17/17 [==============================] - 6s 333ms/step - loss: 0.2495 - accuracy: 0.9070 - val_loss: 0.2329 - val_accuracy: 0.8939\n",
      "Epoch 53/100\n",
      "17/17 [==============================] - 6s 332ms/step - loss: 0.2512 - accuracy: 0.9027 - val_loss: 0.2312 - val_accuracy: 0.8939\n",
      "Epoch 54/100\n",
      "17/17 [==============================] - 6s 339ms/step - loss: 0.2447 - accuracy: 0.9120 - val_loss: 0.2316 - val_accuracy: 0.8939\n",
      "Epoch 55/100\n",
      "17/17 [==============================] - 6s 337ms/step - loss: 0.2484 - accuracy: 0.9033 - val_loss: 0.2306 - val_accuracy: 0.8939\n",
      "Epoch 56/100\n",
      "17/17 [==============================] - 6s 331ms/step - loss: 0.2404 - accuracy: 0.9033 - val_loss: 0.2291 - val_accuracy: 0.8939\n",
      "Epoch 57/100\n",
      "17/17 [==============================] - 6s 330ms/step - loss: 0.2504 - accuracy: 0.9052 - val_loss: 0.2296 - val_accuracy: 0.8939\n",
      "Epoch 58/100\n",
      "17/17 [==============================] - 6s 330ms/step - loss: 0.2379 - accuracy: 0.9070 - val_loss: 0.2285 - val_accuracy: 0.8939\n",
      "Epoch 59/100\n",
      "17/17 [==============================] - 6s 329ms/step - loss: 0.2382 - accuracy: 0.9052 - val_loss: 0.2275 - val_accuracy: 0.8939\n",
      "Epoch 60/100\n",
      "17/17 [==============================] - 6s 327ms/step - loss: 0.2405 - accuracy: 0.9033 - val_loss: 0.2251 - val_accuracy: 0.8939\n",
      "Epoch 61/100\n",
      "17/17 [==============================] - 6s 328ms/step - loss: 0.2350 - accuracy: 0.9095 - val_loss: 0.2246 - val_accuracy: 0.8939\n",
      "Epoch 62/100\n",
      "17/17 [==============================] - 6s 337ms/step - loss: 0.2360 - accuracy: 0.9046 - val_loss: 0.2251 - val_accuracy: 0.8939\n",
      "Epoch 63/100\n",
      "17/17 [==============================] - 6s 340ms/step - loss: 0.2351 - accuracy: 0.9046 - val_loss: 0.2231 - val_accuracy: 0.8939\n",
      "Epoch 64/100\n",
      "17/17 [==============================] - 6s 333ms/step - loss: 0.2319 - accuracy: 0.9070 - val_loss: 0.2225 - val_accuracy: 0.8994\n",
      "Epoch 65/100\n",
      "17/17 [==============================] - 6s 332ms/step - loss: 0.2327 - accuracy: 0.9064 - val_loss: 0.2223 - val_accuracy: 0.8994\n",
      "Epoch 66/100\n",
      "17/17 [==============================] - 6s 335ms/step - loss: 0.2329 - accuracy: 0.9077 - val_loss: 0.2220 - val_accuracy: 0.8994\n",
      "Epoch 67/100\n",
      "17/17 [==============================] - 6s 342ms/step - loss: 0.2273 - accuracy: 0.9046 - val_loss: 0.2206 - val_accuracy: 0.8939\n",
      "Epoch 68/100\n",
      "17/17 [==============================] - 6s 329ms/step - loss: 0.2334 - accuracy: 0.9133 - val_loss: 0.2201 - val_accuracy: 0.8939\n",
      "Epoch 69/100\n",
      "17/17 [==============================] - 6s 330ms/step - loss: 0.2318 - accuracy: 0.9089 - val_loss: 0.2205 - val_accuracy: 0.8939\n",
      "Epoch 70/100\n",
      "17/17 [==============================] - 6s 327ms/step - loss: 0.2272 - accuracy: 0.9058 - val_loss: 0.2200 - val_accuracy: 0.8994\n",
      "Epoch 71/100\n",
      "17/17 [==============================] - 6s 329ms/step - loss: 0.2308 - accuracy: 0.9052 - val_loss: 0.2214 - val_accuracy: 0.8994\n",
      "Epoch 72/100\n",
      "17/17 [==============================] - 6s 330ms/step - loss: 0.2234 - accuracy: 0.9052 - val_loss: 0.2184 - val_accuracy: 0.9050\n",
      "Epoch 73/100\n",
      "17/17 [==============================] - 6s 332ms/step - loss: 0.2255 - accuracy: 0.9077 - val_loss: 0.2194 - val_accuracy: 0.9050\n",
      "Epoch 74/100\n",
      "17/17 [==============================] - 6s 336ms/step - loss: 0.2272 - accuracy: 0.9120 - val_loss: 0.2177 - val_accuracy: 0.8994\n",
      "Epoch 75/100\n",
      "17/17 [==============================] - 6s 329ms/step - loss: 0.2268 - accuracy: 0.9008 - val_loss: 0.2168 - val_accuracy: 0.8994\n",
      "Epoch 76/100\n",
      "17/17 [==============================] - 6s 329ms/step - loss: 0.2208 - accuracy: 0.9114 - val_loss: 0.2160 - val_accuracy: 0.8994\n",
      "Epoch 77/100\n",
      "17/17 [==============================] - 6s 329ms/step - loss: 0.2294 - accuracy: 0.9077 - val_loss: 0.2186 - val_accuracy: 0.9050\n",
      "Epoch 78/100\n",
      "17/17 [==============================] - 6s 332ms/step - loss: 0.2223 - accuracy: 0.9064 - val_loss: 0.2184 - val_accuracy: 0.9050\n",
      "Epoch 79/100\n",
      "17/17 [==============================] - 6s 328ms/step - loss: 0.2255 - accuracy: 0.9077 - val_loss: 0.2179 - val_accuracy: 0.8994\n",
      "Epoch 80/100\n",
      "17/17 [==============================] - 6s 331ms/step - loss: 0.2177 - accuracy: 0.9102 - val_loss: 0.2201 - val_accuracy: 0.8939\n",
      "Epoch 81/100\n",
      "17/17 [==============================] - 6s 330ms/step - loss: 0.2257 - accuracy: 0.8996 - val_loss: 0.2163 - val_accuracy: 0.8939\n",
      "Epoch 82/100\n",
      "17/17 [==============================] - 6s 330ms/step - loss: 0.2209 - accuracy: 0.9114 - val_loss: 0.2165 - val_accuracy: 0.8939\n",
      "Epoch 83/100\n",
      "17/17 [==============================] - 6s 344ms/step - loss: 0.2166 - accuracy: 0.9077 - val_loss: 0.2160 - val_accuracy: 0.8939\n",
      "Epoch 84/100\n",
      "17/17 [==============================] - 6s 347ms/step - loss: 0.2145 - accuracy: 0.9064 - val_loss: 0.2149 - val_accuracy: 0.8939\n",
      "Epoch 85/100\n",
      "17/17 [==============================] - 6s 324ms/step - loss: 0.2214 - accuracy: 0.9102 - val_loss: 0.2152 - val_accuracy: 0.8939\n",
      "Epoch 86/100\n",
      "17/17 [==============================] - 6s 345ms/step - loss: 0.2182 - accuracy: 0.9083 - val_loss: 0.2148 - val_accuracy: 0.8939\n",
      "Epoch 87/100\n",
      "17/17 [==============================] - 6s 333ms/step - loss: 0.2137 - accuracy: 0.9177 - val_loss: 0.2139 - val_accuracy: 0.8939\n",
      "Epoch 88/100\n",
      "17/17 [==============================] - 6s 329ms/step - loss: 0.2216 - accuracy: 0.9083 - val_loss: 0.2148 - val_accuracy: 0.8939\n",
      "Epoch 89/100\n",
      "17/17 [==============================] - 6s 339ms/step - loss: 0.2200 - accuracy: 0.9114 - val_loss: 0.2151 - val_accuracy: 0.8994\n",
      "Epoch 90/100\n",
      "17/17 [==============================] - 6s 339ms/step - loss: 0.2153 - accuracy: 0.9133 - val_loss: 0.2141 - val_accuracy: 0.8939\n",
      "Epoch 91/100\n",
      "17/17 [==============================] - 6s 334ms/step - loss: 0.2173 - accuracy: 0.9077 - val_loss: 0.2135 - val_accuracy: 0.8939\n",
      "Epoch 92/100\n",
      "17/17 [==============================] - 6s 330ms/step - loss: 0.2158 - accuracy: 0.9145 - val_loss: 0.2115 - val_accuracy: 0.8939\n",
      "Epoch 93/100\n",
      "17/17 [==============================] - 6s 329ms/step - loss: 0.2148 - accuracy: 0.9077 - val_loss: 0.2120 - val_accuracy: 0.8939\n",
      "Epoch 94/100\n",
      "17/17 [==============================] - 6s 329ms/step - loss: 0.2115 - accuracy: 0.9095 - val_loss: 0.2134 - val_accuracy: 0.8994\n",
      "Epoch 95/100\n",
      "17/17 [==============================] - 6s 337ms/step - loss: 0.2165 - accuracy: 0.9046 - val_loss: 0.2159 - val_accuracy: 0.9050\n",
      "Epoch 96/100\n",
      "17/17 [==============================] - 6s 330ms/step - loss: 0.2076 - accuracy: 0.9120 - val_loss: 0.2107 - val_accuracy: 0.8994\n",
      "Epoch 97/100\n",
      " 1/17 [>.............................] - ETA: 4s - loss: 0.2068 - accuracy: 0.9000"
     ]
    }
   ],
   "source": [
    "# Train the model\n",
    "# This is already separating in trainign and validation\n",
    "\n",
    "num_epochs = 100\n",
    "batch_size = 100 # group of outtuples as a batch\n",
    "\n",
    "history = model.fit(\n",
    "    X_traineval,\n",
    "    y_traineval,\n",
    "    epochs=num_epochs,\n",
    "    batch_size=batch_size,\n",
    "    validation_split=0.1,\n",
    "    verbose=1,\n",
    "    shuffle=True,\n",
    ")"
   ]
  },
  {
   "cell_type": "code",
   "execution_count": 85,
   "metadata": {},
   "outputs": [
    {
     "name": "stdout",
     "output_type": "stream",
     "text": [
      "Model: \"sequential_1\"\n",
      "_________________________________________________________________\n",
      " Layer (type)                Output Shape              Param #   \n",
      "=================================================================\n",
      " embedding_1 (Embedding)     (None, None, 16)          800       \n",
      "                                                                 \n",
      " bidirectional_1 (Bidirecti  (None, 64)                9600      \n",
      " onal)                                                           \n",
      "                                                                 \n",
      " dense_2 (Dense)             (None, 32)                2080      \n",
      "                                                                 \n",
      " dropout_1 (Dropout)         (None, 32)                0         \n",
      "                                                                 \n",
      " dense_3 (Dense)             (None, 1)                 33        \n",
      "                                                                 \n",
      "=================================================================\n",
      "Total params: 12513 (48.88 KB)\n",
      "Trainable params: 12513 (48.88 KB)\n",
      "Non-trainable params: 0 (0.00 Byte)\n",
      "_________________________________________________________________\n"
     ]
    },
    {
     "name": "stderr",
     "output_type": "stream",
     "text": [
      "/home/sebas/miniconda3/envs/slips/lib/python3.10/site-packages/keras/src/engine/training.py:3103: UserWarning: You are saving your model as an HDF5 file via `model.save()`. This file format is considered legacy. We recommend using instead the native Keras format, e.g. `model.save('my_model.keras')`.\n",
      "  saving_api.save_model(\n"
     ]
    }
   ],
   "source": [
    "model_outputfile = f'../rnn_model_{model_trained}_2024-04-20.h5'\n",
    "model.summary()\n",
    "model.save(model_outputfile, overwrite=False)"
   ]
  },
  {
   "cell_type": "code",
   "execution_count": 100,
   "metadata": {},
   "outputs": [
    {
     "data": {
      "image/png": "[encoded data removed]",
      "text/plain": [
       "<Figure size 640x480 with 1 Axes>"
      ]
     },
     "metadata": {},
     "output_type": "display_data"
    },
    {
     "data": {
      "image/png": "[encoded data removed]",
      "text/plain": [
       "<Figure size 640x480 with 1 Axes>"
      ]
     },
     "metadata": {},
     "output_type": "display_data"
    }
   ],
   "source": [
    "# To plot the results of training\n",
    "import matplotlib.pyplot as plt\n",
    "\n",
    "acc = history.history[\"accuracy\"]\n",
    "val_acc = history.history[\"val_accuracy\"]\n",
    "loss = history.history[\"loss\"]\n",
    "val_loss = history.history[\"val_loss\"]\n",
    "epochs = range(1, len(acc) + 1)\n",
    "plt.plot(epochs, acc, \"ro\", label=\"Training acc\")\n",
    "plt.plot(epochs, val_acc, \"r\", label=\"Validation acc\")\n",
    "\n",
    "plt.title(\"Training and validation accuracy\")\n",
    "plt.legend()\n",
    "plt.savefig(f\"rnn_model_{model_trained}-{model_train_date}.acc.png\")\n",
    "plt.show()\n",
    "\n",
    "plt.close()\n",
    "plt.plot(epochs, loss, \"bo\", label=\"Training loss\")\n",
    "plt.plot(epochs, val_loss, \"b\", label=\"Validation loss\")\n",
    "plt.title(\"Training and validation loss\")\n",
    "plt.legend()\n",
    "plt.savefig(f\"rnn_model_{model_trained}-{model_train_date}.loss.png\")\n",
    "plt.show()"
   ]
  },
  {
   "cell_type": "code",
   "execution_count": 99,
   "metadata": {},
   "outputs": [
    {
     "name": "stdout",
     "output_type": "stream",
     "text": [
      "14/14 [==============================] - 1s 62ms/step - loss: 0.1779 - accuracy: 0.9260\n",
      "Test Generatilization Results:\n",
      "Test Loss: 0.17785538733005524\n",
      "Test Accuracy: 0.926008939743042\n"
     ]
    }
   ],
   "source": [
    "# Evaluate model on the new dataset\n",
    "loss, accuracy = model.evaluate(X_test, y_test)\n",
    "\n",
    "# Print evaluation results\n",
    "print(\"Test Generatilization Results:\")\n",
    "print(\"Test Loss:\", loss)\n",
    "print(\"Test Accuracy:\", accuracy)"
   ]
  },
  {
   "cell_type": "code",
   "execution_count": null,
   "metadata": {},
   "outputs": [],
   "source": []
  }
 ],
 "metadata": {
  "kernelspec": {
   "display_name": "Python 3",
   "language": "python",
   "name": "python3"
  },
  "language_info": {
   "codemirror_mode": {
    "name": "ipython",
    "version": 3
   },
   "file_extension": ".py",
   "mimetype": "text/x-python",
   "name": "python",
   "nbconvert_exporter": "python",
   "pygments_lexer": "ipython3",
   "version": "3.10.0"
  }
 },
 "nbformat": 4,
 "nbformat_minor": 2
}
